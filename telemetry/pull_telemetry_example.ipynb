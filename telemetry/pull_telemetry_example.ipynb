{
 "cells": [
  {
   "cell_type": "markdown",
   "metadata": {},
   "source": [
    "# pull_telemetry_example.ipynb\n",
    "This notebook provides a tutorial for use of the Python microSWIFT_io telemetry functions.\n",
    "\n",
    "Jake Davis (davisjr@uw.edu)\\\n",
    "Last updated: Oct 12, 2022"
   ]
  },
  {
   "cell_type": "markdown",
   "metadata": {},
   "source": [
    "## Requirements\n",
    " \n",
    "The following packages are required to run functions in `microSWIFT_io/telemetry/`:\n",
    "```python\n",
    "numpy\n",
    "pandas\n",
    "xarray\n",
    "```\n",
    "\n",
    "See also: `telemetry/requirements.txt`"
   ]
  },
  {
   "cell_type": "markdown",
   "metadata": {},
   "source": [
    "## Contents\n",
    "\n",
    "`microSWIFT_io/telemetry/` contains several python functions for accessing data from the UW-APL SWIFT server:\n",
    "\n",
    "http://swiftserver.apl.washington.edu/ (base URL)\\\n",
    "http://faculty.washington.edu/jmt3rd/SWIFTdata/DynamicDataLinks.html (HTML page)\n",
    "\n",
    "The primary functions are contained in `pull_telemetry.py`. These include:\n",
    "\n",
    "`pull_telemetry_as_var()` -- return request as a variable in memory\\\n",
    "`pull_telemetry_as_zip()` -- return request as a .zip file\\\n",
    "`pull_telemetry_as_json()` -- return request as JSON-formatted text\\\n",
    "`pull_telemetry_as_kml()` -- return a .kml file of GPS positions\n",
    "\n",
    "Please see the doc strings in `pull_telemetry.py` for a full description of these functions and their arguments.\n",
    "\n",
    "This file also contains the helper function `create_request()` which is not intended for use outside of the primary functions above.  The files `read_SBD.py` and `compile_SBD.py` contain additional helper functions for unpacking data (in the form of Short Burst Data files) from the server."
   ]
  },
  {
   "cell_type": "markdown",
   "metadata": {},
   "source": [
    "## Import Statements:\n",
    "`microSWIFT_io` is not (yet) a formal Python package. It can currently be used either by:\n",
    "\n",
    "1. Copying the contents of `microSWIFT_io/telemetry/` into your desired project directory and accessing the functions directly.\n",
    "\n",
    "2. Or by cheating and inserting the directory in your path, e.g.\n",
    "    ```python\n",
    "    import sys\n",
    "    sys.path.insert(0, '(path_to_your_microSWIFT_io_dir)/microSWIFT-io/telemetry/')\n",
    "    ```\n",
    "\n",
    "Since this notebook is located directly in the `microSWIFT-io/telemetry` directory, the example code should work as if one of the above methods was used."
   ]
  },
  {
   "cell_type": "markdown",
   "metadata": {},
   "source": [
    "## Examples:"
   ]
  },
  {
   "cell_type": "markdown",
   "metadata": {},
   "source": [
    "### Specifying microSWIFT ID and date range:\n",
    "\n",
    "All of the primary telemetry functions use the microSWIFT ID and a date range as base arguments. "
   ]
  },
  {
   "cell_type": "markdown",
   "metadata": {},
   "source": [
    "The ID should be defined as a string corresponding to the 3-digit microSWIFT name (including leading zeros). e.g. microSWIFT019:"
   ]
  },
  {
   "cell_type": "code",
   "execution_count": 2,
   "metadata": {},
   "outputs": [],
   "source": [
    "buoyID = '019'"
   ]
  },
  {
   "cell_type": "markdown",
   "metadata": {},
   "source": [
    "To query a list of IDs, current best practice us to create a list of IDs and loop over it. This makes it easier to handle the output, particularly when it is returned as a variable in memory."
   ]
  },
  {
   "cell_type": "code",
   "execution_count": 3,
   "metadata": {},
   "outputs": [],
   "source": [
    "buoyIDs = ['019', '034', '057', '061']"
   ]
  },
  {
   "cell_type": "markdown",
   "metadata": {},
   "source": [
    "The date range over which to query the server is defined using datetime objects:"
   ]
  },
  {
   "cell_type": "code",
   "execution_count": 4,
   "metadata": {},
   "outputs": [],
   "source": [
    "from datetime import datetime # import the datetime class from the datetime module\n",
    "\n",
    "start = datetime(2022,9,26,0,0,0)\n",
    "end = datetime(2022,9,29,0,0,0)"
   ]
  },
  {
   "cell_type": "markdown",
   "metadata": {},
   "source": [
    "If the `end` date is left empty for any of the pull telemetry functions, it will default to `datetime.utcnow()`."
   ]
  },
  {
   "cell_type": "markdown",
   "metadata": {},
   "source": [
    "### Pull telemetry as a variable for a single buoy\n",
    "\n",
    "The following examples demonstrate how to query the SWIFT server for microSWIFT data over a date range and \n",
    "return it as Python variable using `pull_telemetry_as_var()`. NOTE: the `.zip` file of short burst data (SBD) messages returned by the server is *handled in memory* and therefore is not saved to the local machine as a file. Use `pull_telemetry_as_zip()` for this purpose. \n",
    "\n",
    "If no data exists over the specified date range, an empty variable will be returned."
   ]
  },
  {
   "cell_type": "markdown",
   "metadata": {},
   "source": [
    "As a Python `dict`:"
   ]
  },
  {
   "cell_type": "code",
   "execution_count": 5,
   "metadata": {},
   "outputs": [
    {
     "name": "stdout",
     "output_type": "stream",
     "text": [
      "dict_keys(['Dp', 'temp', 'lat', 'check', 'f', 'a1', 'volt', 'E', 'b2', 'Tp', 'v_mean', 'Hs', 'datetime', 'salinity', 'a2', 'z_mean', 'lon', 'b1', 'u_mean'])\n",
      "98\n"
     ]
    }
   ],
   "source": [
    "from pull_telemetry import pull_telemetry_as_var\n",
    "\n",
    "SWIFT_dict = pull_telemetry_as_var(buoyID = buoyID, startDate = start, endDate= end, varType = 'dict')\n",
    "\n",
    "print(SWIFT_dict.keys()) # e.g. SWIFT_dict['datetime']\n",
    "print(len(SWIFT_dict['datetime'])) # print number of entries"
   ]
  },
  {
   "cell_type": "markdown",
   "metadata": {},
   "source": [
    "Leaving the `endDate` argument empty will return any available data from `startTime` to the present time in UTC (though data may not be available up to the present time)"
   ]
  },
  {
   "cell_type": "code",
   "execution_count": 6,
   "metadata": {},
   "outputs": [
    {
     "name": "stdout",
     "output_type": "stream",
     "text": [
      "dict_keys(['Dp', 'temp', 'lat', 'check', 'f', 'a1', 'volt', 'E', 'b2', 'Tp', 'v_mean', 'Hs', 'datetime', 'salinity', 'a2', 'z_mean', 'lon', 'b1', 'u_mean'])\n",
      "217\n"
     ]
    }
   ],
   "source": [
    "from pull_telemetry import pull_telemetry_as_var\n",
    "\n",
    "SWIFT_dict = pull_telemetry_as_var(buoyID = buoyID, startDate = start, varType = 'dict')\n",
    "\n",
    "print(SWIFT_dict.keys()) # e.g. SWIFT_dict['datetime']\n",
    "print(len(SWIFT_dict['datetime'])) # print number of entries"
   ]
  },
  {
   "cell_type": "markdown",
   "metadata": {},
   "source": [
    "As a `pandas.DataFrame`:"
   ]
  },
  {
   "cell_type": "code",
   "execution_count": 7,
   "metadata": {},
   "outputs": [
    {
     "name": "stdout",
     "output_type": "stream",
     "text": [
      "<class 'pandas.core.frame.DataFrame'>\n",
      "DatetimeIndex: 98 entries, 2022-09-26 16:40:32+00:00 to 2022-09-28 23:40:48+00:00\n",
      "Data columns (total 18 columns):\n",
      " #   Column    Non-Null Count  Dtype  \n",
      "---  ------    --------------  -----  \n",
      " 0   Hs        98 non-null     float64\n",
      " 1   Tp        98 non-null     float64\n",
      " 2   Dp        98 non-null     float64\n",
      " 3   E         98 non-null     object \n",
      " 4   f         98 non-null     object \n",
      " 5   a1        98 non-null     object \n",
      " 6   b1        98 non-null     object \n",
      " 7   a2        98 non-null     object \n",
      " 8   b2        98 non-null     object \n",
      " 9   check     98 non-null     object \n",
      " 10  u_mean    0 non-null      object \n",
      " 11  v_mean    0 non-null      object \n",
      " 12  z_mean    0 non-null      object \n",
      " 13  lat       98 non-null     float64\n",
      " 14  lon       98 non-null     float64\n",
      " 15  temp      98 non-null     float64\n",
      " 16  salinity  98 non-null     float64\n",
      " 17  volt      98 non-null     float64\n",
      "dtypes: float64(8), object(10)\n",
      "memory usage: 14.5+ KB\n",
      "None\n"
     ]
    }
   ],
   "source": [
    "from pull_telemetry import pull_telemetry_as_var\n",
    "\n",
    "SWIFT_df = pull_telemetry_as_var(buoyID = buoyID, startDate = start, endDate= end, varType = 'pandas')\n",
    "print(SWIFT_df.info())"
   ]
  },
  {
   "cell_type": "markdown",
   "metadata": {},
   "source": [
    "The microSWIFT DataFrame will have a `pandas.DatetimeIndex` that can be sliced using datetimes."
   ]
  },
  {
   "cell_type": "code",
   "execution_count": 8,
   "metadata": {},
   "outputs": [
    {
     "name": "stdout",
     "output_type": "stream",
     "text": [
      "<class 'pandas.core.frame.DataFrame'>\n",
      "DatetimeIndex: 38 entries, 2022-09-28 01:42:24+00:00 to 2022-09-28 23:40:48+00:00\n",
      "Data columns (total 18 columns):\n",
      " #   Column    Non-Null Count  Dtype  \n",
      "---  ------    --------------  -----  \n",
      " 0   Hs        38 non-null     float64\n",
      " 1   Tp        38 non-null     float64\n",
      " 2   Dp        38 non-null     float64\n",
      " 3   E         38 non-null     object \n",
      " 4   f         38 non-null     object \n",
      " 5   a1        38 non-null     object \n",
      " 6   b1        38 non-null     object \n",
      " 7   a2        38 non-null     object \n",
      " 8   b2        38 non-null     object \n",
      " 9   check     38 non-null     object \n",
      " 10  u_mean    0 non-null      object \n",
      " 11  v_mean    0 non-null      object \n",
      " 12  z_mean    0 non-null      object \n",
      " 13  lat       38 non-null     float64\n",
      " 14  lon       38 non-null     float64\n",
      " 15  temp      38 non-null     float64\n",
      " 16  salinity  38 non-null     float64\n",
      " 17  volt      38 non-null     float64\n",
      "dtypes: float64(8), object(10)\n",
      "memory usage: 5.6+ KB\n",
      "None\n"
     ]
    }
   ],
   "source": [
    "from datetime import datetime, timezone\n",
    "\n",
    "t1 = datetime(2022,9,28, tzinfo=timezone.utc)\n",
    "t2 = datetime(2022,9,29, tzinfo=timezone.utc)\n",
    "\n",
    "print(SWIFT_df[t1:t2].info())"
   ]
  },
  {
   "cell_type": "markdown",
   "metadata": {},
   "source": [
    "In the future, other variable types (e.g. `xarray.Dataset`) will be supported."
   ]
  },
  {
   "cell_type": "markdown",
   "metadata": {},
   "source": [
    "### Pull telemetry as a variable for multiple buoys\n",
    "\n",
    "For multiple microSWIFTs, run `pull_telemetry_as_var()` in a loop and store the individual variables in an iterable. For example, query the server for the microSWIFTs in `buoyIDs` (defined above) and store the output as individual Pandas DataFrames in a dictionary:"
   ]
  },
  {
   "cell_type": "code",
   "execution_count": 9,
   "metadata": {},
   "outputs": [
    {
     "name": "stdout",
     "output_type": "stream",
     "text": [
      "dict_keys(['019', '034', '057', '061'])\n"
     ]
    }
   ],
   "source": [
    "from pull_telemetry import pull_telemetry_as_var\n",
    "\n",
    "microSWIFTs = dict() # initialize a dict to store individual DataFrames\n",
    "\n",
    "for buoyID in buoyIDs:\n",
    "    microSWIFTs[buoyID] = pull_telemetry_as_var(buoyID = buoyID, startDate = start, endDate= end, varType = 'pandas')\n",
    "\n",
    "print(microSWIFTs.keys())"
   ]
  },
  {
   "cell_type": "markdown",
   "metadata": {},
   "source": [
    "The key-pair values will contain a DataFrame for each microSWIFT:"
   ]
  },
  {
   "cell_type": "code",
   "execution_count": 10,
   "metadata": {},
   "outputs": [
    {
     "data": {
      "text/html": [
       "<div>\n",
       "<style scoped>\n",
       "    .dataframe tbody tr th:only-of-type {\n",
       "        vertical-align: middle;\n",
       "    }\n",
       "\n",
       "    .dataframe tbody tr th {\n",
       "        vertical-align: top;\n",
       "    }\n",
       "\n",
       "    .dataframe thead th {\n",
       "        text-align: right;\n",
       "    }\n",
       "</style>\n",
       "<table border=\"1\" class=\"dataframe\">\n",
       "  <thead>\n",
       "    <tr style=\"text-align: right;\">\n",
       "      <th></th>\n",
       "      <th>Hs</th>\n",
       "      <th>Tp</th>\n",
       "      <th>Dp</th>\n",
       "      <th>E</th>\n",
       "      <th>f</th>\n",
       "      <th>a1</th>\n",
       "      <th>b1</th>\n",
       "      <th>a2</th>\n",
       "      <th>b2</th>\n",
       "      <th>check</th>\n",
       "      <th>u_mean</th>\n",
       "      <th>v_mean</th>\n",
       "      <th>z_mean</th>\n",
       "      <th>lat</th>\n",
       "      <th>lon</th>\n",
       "      <th>temp</th>\n",
       "      <th>salinity</th>\n",
       "      <th>volt</th>\n",
       "    </tr>\n",
       "    <tr>\n",
       "      <th>datetime</th>\n",
       "      <th></th>\n",
       "      <th></th>\n",
       "      <th></th>\n",
       "      <th></th>\n",
       "      <th></th>\n",
       "      <th></th>\n",
       "      <th></th>\n",
       "      <th></th>\n",
       "      <th></th>\n",
       "      <th></th>\n",
       "      <th></th>\n",
       "      <th></th>\n",
       "      <th></th>\n",
       "      <th></th>\n",
       "      <th></th>\n",
       "      <th></th>\n",
       "      <th></th>\n",
       "      <th></th>\n",
       "    </tr>\n",
       "  </thead>\n",
       "  <tbody>\n",
       "    <tr>\n",
       "      <th>2022-09-26 16:40:32+00:00</th>\n",
       "      <td>999.000000</td>\n",
       "      <td>999.000000</td>\n",
       "      <td>999.000</td>\n",
       "      <td>[999.0, 999.0, 999.0, 999.0, 999.0, 999.0, 999...</td>\n",
       "      <td>[999.0, 999.0, 999.0, 999.0, 999.0, 999.0, 999...</td>\n",
       "      <td>[0.6, 0.6, 0.6, 0.6, 0.6, 0.6, 0.6, 0.6, 0.6, ...</td>\n",
       "      <td>[0.6, 0.6, 0.6, 0.6, 0.6, 0.6, 0.6, 0.6, 0.6, ...</td>\n",
       "      <td>[0.6, 0.6, 0.6, 0.6, 0.6, 0.6, 0.6, 0.6, 0.6, ...</td>\n",
       "      <td>[0.6, 0.6, 0.6, 0.6, 0.6, 0.6, 0.6, 0.6, 0.6, ...</td>\n",
       "      <td>[25.5, 25.5, 25.5, 25.5, 25.5, 25.5, 25.5, 25....</td>\n",
       "      <td>None</td>\n",
       "      <td>None</td>\n",
       "      <td>None</td>\n",
       "      <td>999.000000</td>\n",
       "      <td>999.000000</td>\n",
       "      <td>0.0</td>\n",
       "      <td>0.0</td>\n",
       "      <td>0.0</td>\n",
       "    </tr>\n",
       "    <tr>\n",
       "      <th>2022-09-26 18:42:08+00:00</th>\n",
       "      <td>2.111328</td>\n",
       "      <td>4.097656</td>\n",
       "      <td>350.500</td>\n",
       "      <td>[0.0362548828125, 0.47607421875, 1.4423828125,...</td>\n",
       "      <td>[0.009765625, 0.021484375, 0.033203125, 0.0449...</td>\n",
       "      <td>[0.03, -0.01, 0.01, 0.2, 0.18, 0.13, 0.11, 0.2...</td>\n",
       "      <td>[0.09, 0.1, 0.02, 0.18, 0.05, 0.03, 0.0, 0.03,...</td>\n",
       "      <td>[-0.43, 0.14, -0.11, -0.1, -0.33, -0.04, -0.2,...</td>\n",
       "      <td>[-0.24, -0.32, -0.04, 0.04, -0.12, -0.13, 0.17...</td>\n",
       "      <td>[3.4, 22.9, 24.3, 25.5, 25.5, 25.5, 21.4, 16.5...</td>\n",
       "      <td>None</td>\n",
       "      <td>None</td>\n",
       "      <td>None</td>\n",
       "      <td>26.196615</td>\n",
       "      <td>-83.811127</td>\n",
       "      <td>0.0</td>\n",
       "      <td>0.0</td>\n",
       "      <td>0.0</td>\n",
       "    </tr>\n",
       "    <tr>\n",
       "      <th>2022-09-26 18:42:08+00:00</th>\n",
       "      <td>0.672363</td>\n",
       "      <td>4.097656</td>\n",
       "      <td>13.125</td>\n",
       "      <td>[0.0, 0.0, 0.0, 0.0, 0.237060546875, 0.3435058...</td>\n",
       "      <td>[0.009765625, 0.021484375, 0.033203125, 0.0449...</td>\n",
       "      <td>[-0.05, 0.18, -0.1, 0.05, 0.03, 0.02, -0.03, -...</td>\n",
       "      <td>[-0.03, -0.06, -0.01, -0.17, 0.07, -0.03, -0.0...</td>\n",
       "      <td>[0.28, 0.06, -0.14, -0.1, -0.31, -0.03, -0.19,...</td>\n",
       "      <td>[-0.11, -0.24, 0.02, 0.02, -0.13, -0.15, 0.19,...</td>\n",
       "      <td>[0.0, 0.1, 0.1, 0.1, 0.2, 0.1, 0.2, 0.2, 0.1, ...</td>\n",
       "      <td>None</td>\n",
       "      <td>None</td>\n",
       "      <td>None</td>\n",
       "      <td>26.196615</td>\n",
       "      <td>-83.811127</td>\n",
       "      <td>0.0</td>\n",
       "      <td>0.0</td>\n",
       "      <td>1.0</td>\n",
       "    </tr>\n",
       "    <tr>\n",
       "      <th>2022-09-26 19:41:52+00:00</th>\n",
       "      <td>0.796387</td>\n",
       "      <td>2.679688</td>\n",
       "      <td>91.625</td>\n",
       "      <td>[0.0, 0.0, 0.0, 0.0, 0.411865234375, 0.5893554...</td>\n",
       "      <td>[0.009765625, 0.021484375, 0.033203125, 0.0449...</td>\n",
       "      <td>[-0.17, -0.06, -0.01, 0.01, -0.01, -0.01, -0.0...</td>\n",
       "      <td>[-0.1, -0.05, -0.07, 0.08, -0.08, -0.21, -0.12...</td>\n",
       "      <td>[0.29, 0.03, 0.13, 0.02, 0.07, -0.06, -0.01, -...</td>\n",
       "      <td>[0.04, -0.17, 0.01, -0.13, -0.17, -0.16, -0.33...</td>\n",
       "      <td>[0.0, 0.1, 0.1, 0.1, 0.1, 0.1, 0.2, 0.2, 0.1, ...</td>\n",
       "      <td>None</td>\n",
       "      <td>None</td>\n",
       "      <td>None</td>\n",
       "      <td>26.194782</td>\n",
       "      <td>-83.815460</td>\n",
       "      <td>0.0</td>\n",
       "      <td>0.0</td>\n",
       "      <td>1.0</td>\n",
       "    </tr>\n",
       "    <tr>\n",
       "      <th>2022-09-26 19:41:52+00:00</th>\n",
       "      <td>2.824219</td>\n",
       "      <td>2.679688</td>\n",
       "      <td>78.750</td>\n",
       "      <td>[0.07769775390625, 0.53564453125, 2.822265625,...</td>\n",
       "      <td>[0.009765625, 0.021484375, 0.033203125, 0.0449...</td>\n",
       "      <td>[0.09, 0.05, 0.1, 0.1, 0.03, 0.21, 0.14, 0.24,...</td>\n",
       "      <td>[-0.04, -0.2, -0.07, -0.06, 0.0, -0.07, -0.15,...</td>\n",
       "      <td>[-0.05, -0.06, 0.17, 0.03, 0.07, -0.06, -0.03,...</td>\n",
       "      <td>[-0.06, -0.2, 0.08, -0.15, -0.2, -0.16, -0.36,...</td>\n",
       "      <td>[4.9, 12.8, 25.5, 25.5, 25.5, 25.5, 25.5, 25.0...</td>\n",
       "      <td>None</td>\n",
       "      <td>None</td>\n",
       "      <td>None</td>\n",
       "      <td>26.194782</td>\n",
       "      <td>-83.815460</td>\n",
       "      <td>0.0</td>\n",
       "      <td>0.0</td>\n",
       "      <td>0.0</td>\n",
       "    </tr>\n",
       "  </tbody>\n",
       "</table>\n",
       "</div>"
      ],
      "text/plain": [
       "                                   Hs          Tp       Dp  \\\n",
       "datetime                                                     \n",
       "2022-09-26 16:40:32+00:00  999.000000  999.000000  999.000   \n",
       "2022-09-26 18:42:08+00:00    2.111328    4.097656  350.500   \n",
       "2022-09-26 18:42:08+00:00    0.672363    4.097656   13.125   \n",
       "2022-09-26 19:41:52+00:00    0.796387    2.679688   91.625   \n",
       "2022-09-26 19:41:52+00:00    2.824219    2.679688   78.750   \n",
       "\n",
       "                                                                           E  \\\n",
       "datetime                                                                       \n",
       "2022-09-26 16:40:32+00:00  [999.0, 999.0, 999.0, 999.0, 999.0, 999.0, 999...   \n",
       "2022-09-26 18:42:08+00:00  [0.0362548828125, 0.47607421875, 1.4423828125,...   \n",
       "2022-09-26 18:42:08+00:00  [0.0, 0.0, 0.0, 0.0, 0.237060546875, 0.3435058...   \n",
       "2022-09-26 19:41:52+00:00  [0.0, 0.0, 0.0, 0.0, 0.411865234375, 0.5893554...   \n",
       "2022-09-26 19:41:52+00:00  [0.07769775390625, 0.53564453125, 2.822265625,...   \n",
       "\n",
       "                                                                           f  \\\n",
       "datetime                                                                       \n",
       "2022-09-26 16:40:32+00:00  [999.0, 999.0, 999.0, 999.0, 999.0, 999.0, 999...   \n",
       "2022-09-26 18:42:08+00:00  [0.009765625, 0.021484375, 0.033203125, 0.0449...   \n",
       "2022-09-26 18:42:08+00:00  [0.009765625, 0.021484375, 0.033203125, 0.0449...   \n",
       "2022-09-26 19:41:52+00:00  [0.009765625, 0.021484375, 0.033203125, 0.0449...   \n",
       "2022-09-26 19:41:52+00:00  [0.009765625, 0.021484375, 0.033203125, 0.0449...   \n",
       "\n",
       "                                                                          a1  \\\n",
       "datetime                                                                       \n",
       "2022-09-26 16:40:32+00:00  [0.6, 0.6, 0.6, 0.6, 0.6, 0.6, 0.6, 0.6, 0.6, ...   \n",
       "2022-09-26 18:42:08+00:00  [0.03, -0.01, 0.01, 0.2, 0.18, 0.13, 0.11, 0.2...   \n",
       "2022-09-26 18:42:08+00:00  [-0.05, 0.18, -0.1, 0.05, 0.03, 0.02, -0.03, -...   \n",
       "2022-09-26 19:41:52+00:00  [-0.17, -0.06, -0.01, 0.01, -0.01, -0.01, -0.0...   \n",
       "2022-09-26 19:41:52+00:00  [0.09, 0.05, 0.1, 0.1, 0.03, 0.21, 0.14, 0.24,...   \n",
       "\n",
       "                                                                          b1  \\\n",
       "datetime                                                                       \n",
       "2022-09-26 16:40:32+00:00  [0.6, 0.6, 0.6, 0.6, 0.6, 0.6, 0.6, 0.6, 0.6, ...   \n",
       "2022-09-26 18:42:08+00:00  [0.09, 0.1, 0.02, 0.18, 0.05, 0.03, 0.0, 0.03,...   \n",
       "2022-09-26 18:42:08+00:00  [-0.03, -0.06, -0.01, -0.17, 0.07, -0.03, -0.0...   \n",
       "2022-09-26 19:41:52+00:00  [-0.1, -0.05, -0.07, 0.08, -0.08, -0.21, -0.12...   \n",
       "2022-09-26 19:41:52+00:00  [-0.04, -0.2, -0.07, -0.06, 0.0, -0.07, -0.15,...   \n",
       "\n",
       "                                                                          a2  \\\n",
       "datetime                                                                       \n",
       "2022-09-26 16:40:32+00:00  [0.6, 0.6, 0.6, 0.6, 0.6, 0.6, 0.6, 0.6, 0.6, ...   \n",
       "2022-09-26 18:42:08+00:00  [-0.43, 0.14, -0.11, -0.1, -0.33, -0.04, -0.2,...   \n",
       "2022-09-26 18:42:08+00:00  [0.28, 0.06, -0.14, -0.1, -0.31, -0.03, -0.19,...   \n",
       "2022-09-26 19:41:52+00:00  [0.29, 0.03, 0.13, 0.02, 0.07, -0.06, -0.01, -...   \n",
       "2022-09-26 19:41:52+00:00  [-0.05, -0.06, 0.17, 0.03, 0.07, -0.06, -0.03,...   \n",
       "\n",
       "                                                                          b2  \\\n",
       "datetime                                                                       \n",
       "2022-09-26 16:40:32+00:00  [0.6, 0.6, 0.6, 0.6, 0.6, 0.6, 0.6, 0.6, 0.6, ...   \n",
       "2022-09-26 18:42:08+00:00  [-0.24, -0.32, -0.04, 0.04, -0.12, -0.13, 0.17...   \n",
       "2022-09-26 18:42:08+00:00  [-0.11, -0.24, 0.02, 0.02, -0.13, -0.15, 0.19,...   \n",
       "2022-09-26 19:41:52+00:00  [0.04, -0.17, 0.01, -0.13, -0.17, -0.16, -0.33...   \n",
       "2022-09-26 19:41:52+00:00  [-0.06, -0.2, 0.08, -0.15, -0.2, -0.16, -0.36,...   \n",
       "\n",
       "                                                                       check  \\\n",
       "datetime                                                                       \n",
       "2022-09-26 16:40:32+00:00  [25.5, 25.5, 25.5, 25.5, 25.5, 25.5, 25.5, 25....   \n",
       "2022-09-26 18:42:08+00:00  [3.4, 22.9, 24.3, 25.5, 25.5, 25.5, 21.4, 16.5...   \n",
       "2022-09-26 18:42:08+00:00  [0.0, 0.1, 0.1, 0.1, 0.2, 0.1, 0.2, 0.2, 0.1, ...   \n",
       "2022-09-26 19:41:52+00:00  [0.0, 0.1, 0.1, 0.1, 0.1, 0.1, 0.2, 0.2, 0.1, ...   \n",
       "2022-09-26 19:41:52+00:00  [4.9, 12.8, 25.5, 25.5, 25.5, 25.5, 25.5, 25.0...   \n",
       "\n",
       "                          u_mean v_mean z_mean         lat         lon  temp  \\\n",
       "datetime                                                                       \n",
       "2022-09-26 16:40:32+00:00   None   None   None  999.000000  999.000000   0.0   \n",
       "2022-09-26 18:42:08+00:00   None   None   None   26.196615  -83.811127   0.0   \n",
       "2022-09-26 18:42:08+00:00   None   None   None   26.196615  -83.811127   0.0   \n",
       "2022-09-26 19:41:52+00:00   None   None   None   26.194782  -83.815460   0.0   \n",
       "2022-09-26 19:41:52+00:00   None   None   None   26.194782  -83.815460   0.0   \n",
       "\n",
       "                           salinity  volt  \n",
       "datetime                                   \n",
       "2022-09-26 16:40:32+00:00       0.0   0.0  \n",
       "2022-09-26 18:42:08+00:00       0.0   0.0  \n",
       "2022-09-26 18:42:08+00:00       0.0   1.0  \n",
       "2022-09-26 19:41:52+00:00       0.0   1.0  \n",
       "2022-09-26 19:41:52+00:00       0.0   0.0  "
      ]
     },
     "execution_count": 10,
     "metadata": {},
     "output_type": "execute_result"
    }
   ],
   "source": [
    "microSWIFTs['019'].head()"
   ]
  },
  {
   "cell_type": "markdown",
   "metadata": {},
   "source": [
    "### Pull telemetry as a zip file:\n",
    "\n",
    "Query the SWIFT server for microSWIFT data over a specified date range and download a `.zip` file of individual short burst data (SBD) messages."
   ]
  },
  {
   "cell_type": "code",
   "execution_count": 20,
   "metadata": {},
   "outputs": [],
   "source": [
    "from pull_telemetry import pull_telemetry_as_zip\n",
    "\n",
    "pull_telemetry_as_zip(buoyID = buoyID, startDate = start, endDate= end)"
   ]
  },
  {
   "cell_type": "markdown",
   "metadata": {},
   "source": [
    "The `.zip` file will be saved in your current directory with the microSWIFTs name, e.g. `microSWIFT019.zip`. If data exists, it the unzipped folder will contain the `.sbd` files."
   ]
  },
  {
   "cell_type": "markdown",
   "metadata": {},
   "source": [
    "For multiple microSWIFTs:"
   ]
  },
  {
   "cell_type": "code",
   "execution_count": 21,
   "metadata": {},
   "outputs": [],
   "source": [
    "from pull_telemetry import pull_telemetry_as_zip\n",
    "\n",
    "for buoyID in buoyIDs:\n",
    "    pull_telemetry_as_zip(buoyID = buoyID, startDate = start, endDate= end)"
   ]
  },
  {
   "cell_type": "markdown",
   "metadata": {},
   "source": [
    "### Pull telemetry as JSON text:\n",
    "\n",
    "Query the SWIFT server and return a variable containing JSON-formatted text."
   ]
  },
  {
   "cell_type": "code",
   "execution_count": null,
   "metadata": {},
   "outputs": [],
   "source": [
    "from pull_telemetry import pull_telemetry_as_json\n",
    "\n",
    "SWIFT_json = pull_telemetry_as_json(buoyID = '019', startDate = start, endDate= end)\n",
    "print(SWIFT_json)"
   ]
  },
  {
   "cell_type": "markdown",
   "metadata": {},
   "source": [
    "This variable can then be handled using the `json` package:"
   ]
  },
  {
   "cell_type": "code",
   "execution_count": 5,
   "metadata": {},
   "outputs": [],
   "source": [
    "import json\n",
    "\n",
    "with open('SWIFT.json', 'w') as f:\n",
    "    json.dump(SWIFT_json, f)"
   ]
  },
  {
   "cell_type": "markdown",
   "metadata": {},
   "source": [
    "### Pull telemetry as a KML file\n",
    "\n",
    "Query the SWIFT server for microSWIFT data over a specified date range and download a `.kml` file containing the buoy's GPS coordinates.  "
   ]
  },
  {
   "cell_type": "code",
   "execution_count": 22,
   "metadata": {},
   "outputs": [],
   "source": [
    "from pull_telemetry import pull_telemetry_as_kml\n",
    "\n",
    "pull_telemetry_as_kml(buoyID = buoyID, startDate = start, endDate= end)"
   ]
  },
  {
   "cell_type": "markdown",
   "metadata": {},
   "source": [
    "The `.kml` file will be saved in your current directory with the microSWIFTs name and the corresponding date range in ISO 8601 format (in UTC), e.g. `microSWIFT019_{y-m-dTH:M:S}_to_{y-m-dTH:M:S}-.kml`."
   ]
  },
  {
   "cell_type": "markdown",
   "metadata": {},
   "source": [
    "For multiple microSWIFTs:"
   ]
  },
  {
   "cell_type": "code",
   "execution_count": 23,
   "metadata": {},
   "outputs": [],
   "source": [
    "from pull_telemetry import pull_telemetry_as_kml\n",
    "for buoyID in buoyIDs:\n",
    "    pull_telemetry_as_kml(buoyID = buoyID, startDate = start, endDate= end)"
   ]
  },
  {
   "cell_type": "markdown",
   "metadata": {},
   "source": [
    "### Complete examples:"
   ]
  },
  {
   "cell_type": "markdown",
   "metadata": {},
   "source": [
    "Pull telemetry from microSWIFT057 during Hurricane Ian and store it in memory as a Python dictionary. Extract the time and significant wave height as variables. Since the microSWIFTs were configured to report two wave estimates during this deployment, IMU-based (volt == 0) and GPS-based (volt == 1), filter for the GPS-based estimates and plot the result."
   ]
  },
  {
   "cell_type": "code",
   "execution_count": 12,
   "metadata": {},
   "outputs": [
    {
     "data": {
      "text/plain": [
       "<matplotlib.legend.Legend at 0x136054730>"
      ]
     },
     "execution_count": 12,
     "metadata": {},
     "output_type": "execute_result"
    },
    {
     "data": {
      "image/png": "[encoded data removed]",
      "text/plain": [
       "<Figure size 640x480 with 1 Axes>"
      ]
     },
     "metadata": {},
     "output_type": "display_data"
    }
   ],
   "source": [
    "import matplotlib.pyplot as plt\n",
    "import numpy as np\n",
    "from pull_telemetry import pull_telemetry_as_var\n",
    "from datetime import datetime \n",
    "\n",
    "buoyID = '057'\n",
    "start = datetime(2022,9,26,0,0,0)\n",
    "end = datetime(2022,10,1,0,0,0)\n",
    "\n",
    "SWIFT_dict = pull_telemetry_as_var(buoyID = buoyID, startDate = start, endDate= end, varType = 'dict')\n",
    "\n",
    "t = np.array(SWIFT_dict['datetime'])\n",
    "Hs = np.array(SWIFT_dict['Hs'])\n",
    "voltFlag = np.array(SWIFT_dict['volt'])\n",
    "\n",
    "\n",
    "fig,ax = plt.subplots(1,1)\n",
    "ax.scatter(t[voltFlag == 1], Hs[voltFlag == 1], label = 'GPS estimate')\n",
    "ax.set_ylabel('Significant Wave Height (m)')\n",
    "plt.xticks(rotation=30)\n",
    "ax.legend()"
   ]
  },
  {
   "cell_type": "markdown",
   "metadata": {},
   "source": [
    "Do the same as above, but using a more versatile Pandas DataFrame. "
   ]
  },
  {
   "cell_type": "code",
   "execution_count": 34,
   "metadata": {},
   "outputs": [
    {
     "data": {
      "text/plain": [
       "<matplotlib.legend.Legend at 0x151ea2b80>"
      ]
     },
     "execution_count": 34,
     "metadata": {},
     "output_type": "execute_result"
    },
    {
     "data": {
      "image/png": "[encoded data removed]",
      "text/plain": [
       "<Figure size 640x480 with 1 Axes>"
      ]
     },
     "metadata": {},
     "output_type": "display_data"
    }
   ],
   "source": [
    "import matplotlib.pyplot as plt\n",
    "import numpy as np\n",
    "from pull_telemetry import pull_telemetry_as_var\n",
    "from datetime import datetime \n",
    "\n",
    "buoyID = '057'\n",
    "start = datetime(2022,9,26,0,0,0)\n",
    "end = datetime(2022,10,1,0,0,0)\n",
    "\n",
    "SWIFT_df = pull_telemetry_as_var(buoyID = buoyID, startDate = start, endDate= end, varType = 'pandas')\n",
    "\n",
    "SWIFT_GPS = SWIFT_df[SWIFT_df['volt'] == 1]\n",
    "\n",
    "fig,ax = plt.subplots(1,1)\n",
    "ax.scatter(SWIFT_GPS.index, SWIFT_GPS['Hs'], label = 'GPS estimate')\n",
    "ax.set_ylabel('Significant Wave Height (m)')\n",
    "plt.xticks(rotation=30)\n",
    "ax.legend()"
   ]
  }
 ],
 "metadata": {
  "kernelspec": {
   "display_name": "Python 3.8.13 ('NHCI_geo_python3-8')",
   "language": "python",
   "name": "python3"
  },
  "language_info": {
   "codemirror_mode": {
    "name": "ipython",
    "version": 3
   },
   "file_extension": ".py",
   "mimetype": "text/x-python",
   "name": "python",
   "nbconvert_exporter": "python",
   "pygments_lexer": "ipython3",
   "version": "3.8.13"
  },
  "orig_nbformat": 4,
  "vscode": {
   "interpreter": {
    "hash": "e56cbc07ddedf96da06abc89404a4f0349be92f3ac4d35d7fdfd10a4451d547c"
   }
  }
 },
 "nbformat": 4,
 "nbformat_minor": 2
}
